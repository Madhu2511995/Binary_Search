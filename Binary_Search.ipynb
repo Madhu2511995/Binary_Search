{
  "nbformat": 4,
  "nbformat_minor": 0,
  "metadata": {
    "colab": {
      "provenance": []
    },
    "kernelspec": {
      "name": "python3",
      "display_name": "Python 3"
    },
    "language_info": {
      "name": "python"
    }
  },
  "cells": [
    {
      "cell_type": "markdown",
      "source": [
        "# **Binary_Search**"
      ],
      "metadata": {
        "id": "QGp8vgzEQ8aR"
      }
    },
    {
      "cell_type": "code",
      "source": [
        "# Iterative Method\n",
        "def bin_search(arr,target):\n",
        "  arr.sort()\n",
        "  n=len(arr)\n",
        "  low=0\n",
        "  high=n-1\n",
        "  while(low<=high):\n",
        "    mid=(low+high)//2\n",
        "    if arr[mid]==target:\n",
        "      return mid\n",
        "    # When target is not in left half of array\n",
        "    elif target>arr[mid]:\n",
        "      low=mid+1\n",
        "    else:\n",
        "      high=mid-1\n",
        "  return -1\n",
        "arr=[3,1,2,10,9,5,6]\n",
        "bin_search(arr,6)"
      ],
      "metadata": {
        "colab": {
          "base_uri": "https://localhost:8080/"
        },
        "id": "yjF9rjaDRC3v",
        "outputId": "355b70e6-45af-4384-843b-c11bef05fd2d"
      },
      "execution_count": null,
      "outputs": [
        {
          "output_type": "execute_result",
          "data": {
            "text/plain": [
              "4"
            ]
          },
          "metadata": {},
          "execution_count": 21
        }
      ]
    },
    {
      "cell_type": "code",
      "source": [
        "# Recursive Method\n",
        "def bina_search(arr,low,high,target):\n",
        "  arr.sort()\n",
        "  if low>high:\n",
        "    return -1\n",
        "  mid=(low+high)//2\n",
        "  if arr[mid]==target:\n",
        "    return mid\n",
        "  elif target > arr[mid]:\n",
        "    return bina_search(arr,mid+1,high,target)\n",
        "  else:\n",
        "    return bina_search(arr,low,mid-1,target)\n",
        "arr=[3,1,2,10,9,5,6]\n",
        "low=0\n",
        "high=len(arr)-1\n",
        "target=6\n",
        "bina_search(arr,low,high,target)"
      ],
      "metadata": {
        "colab": {
          "base_uri": "https://localhost:8080/"
        },
        "id": "LE8XocYRRC6A",
        "outputId": "b02a9215-627e-4c2f-dd6b-05b2e0664513"
      },
      "execution_count": null,
      "outputs": [
        {
          "output_type": "execute_result",
          "data": {
            "text/plain": [
              "4"
            ]
          },
          "metadata": {},
          "execution_count": 20
        }
      ]
    },
    {
      "cell_type": "markdown",
      "source": [
        "# **Implement Lower Bound**\n",
        "*   Smallest index such that: **arr[index]>=n**\n",
        "*   n=Number for which find the lower bound\n",
        "\n"
      ],
      "metadata": {
        "id": "zk1sZMyQtZuv"
      }
    },
    {
      "cell_type": "code",
      "source": [
        "def lower_bound(arr,n):\n",
        "  arr.sort()\n",
        "  low=0\n",
        "  high=len(arr)-1\n",
        "  ans=len(arr)\n",
        "  while(low<=high):\n",
        "    mid=(low+high)//2\n",
        "    # May be mid is answer\n",
        "    if arr[mid]>=n:\n",
        "      ans=mid\n",
        "      # Look for smaller index on left\n",
        "      high=mid-1\n",
        "    else:\n",
        "      # Look for right\n",
        "      low=mid+1\n",
        "  return \"Index Number at which given number > or = to given number : \",ans\n",
        "arr=[1,2,3,4,5]\n",
        "n=4\n",
        "lower_bound(arr,n)"
      ],
      "metadata": {
        "colab": {
          "base_uri": "https://localhost:8080/"
        },
        "id": "9V-BoT5-tZBt",
        "outputId": "1758dd5c-5b31-4923-f1e3-6b104d5505c4"
      },
      "execution_count": null,
      "outputs": [
        {
          "output_type": "execute_result",
          "data": {
            "text/plain": [
              "('Index Number at which given number > or = to given number : ', 3)"
            ]
          },
          "metadata": {},
          "execution_count": 4
        }
      ]
    },
    {
      "cell_type": "markdown",
      "source": [
        "# **Implement Upper Bound**\n",
        "*   Smallest index such that: **arr[index]>n**\n",
        "*   n=Number for which find the Upper bound"
      ],
      "metadata": {
        "id": "pq1pMEg9xtDx"
      }
    },
    {
      "cell_type": "code",
      "source": [
        "def upper_bound(arr,n):\n",
        "  arr.sort()\n",
        "  low=0\n",
        "  high=len(arr)-1\n",
        "  ans=len(arr)\n",
        "  while(low<=high):\n",
        "    mid=(low+high)//2\n",
        "    # May be mid is answer\n",
        "    if arr[mid]>n:\n",
        "      ans=mid\n",
        "      # Look for smaller index on left\n",
        "      high=mid-1\n",
        "    else:\n",
        "      # Look for right\n",
        "      low=mid+1\n",
        "  return \"Its index number :\",ans\n",
        "arr=[1,2,3,4,5]\n",
        "n=4\n",
        "upper_bound(arr,n)"
      ],
      "metadata": {
        "colab": {
          "base_uri": "https://localhost:8080/"
        },
        "id": "xKLZBP4mRC95",
        "outputId": "b2d115dd-067a-40b0-b678-7d738bb4beb6"
      },
      "execution_count": null,
      "outputs": [
        {
          "output_type": "execute_result",
          "data": {
            "text/plain": [
              "('Its index number :', 4)"
            ]
          },
          "metadata": {},
          "execution_count": 5
        }
      ]
    },
    {
      "cell_type": "markdown",
      "source": [
        "# **Search Insert Position**\n",
        "* Find the index at which Insert an number in its correct position in sorted array"
      ],
      "metadata": {
        "id": "A4rZ46SIzFFc"
      }
    },
    {
      "cell_type": "code",
      "source": [
        "# that is equal to find the lower bound\n",
        "def lower_bound(arr,n):\n",
        "  arr.sort()\n",
        "  low=0\n",
        "  high=len(arr)-1\n",
        "  ans=len(arr)\n",
        "  while(low<=high):\n",
        "    mid=(low+high)//2\n",
        "    # May be mid is answer\n",
        "    if arr[mid]>=n:\n",
        "      ans=mid\n",
        "      # Look for smaller index on left\n",
        "      high=mid-1\n",
        "    else:\n",
        "      # Look for right\n",
        "      low=mid+1\n",
        "  return ans\n",
        "arr=[1,2,3,4,5]\n",
        "n=4\n",
        "lower_bound(arr,n)"
      ],
      "metadata": {
        "colab": {
          "base_uri": "https://localhost:8080/"
        },
        "id": "WK7iEWA4RC_t",
        "outputId": "207867e1-180b-4370-e5dd-2a7edb61079b"
      },
      "execution_count": null,
      "outputs": [
        {
          "output_type": "execute_result",
          "data": {
            "text/plain": [
              "3"
            ]
          },
          "metadata": {},
          "execution_count": 28
        }
      ]
    },
    {
      "cell_type": "markdown",
      "source": [
        "# **Floor and Ceil**\n",
        "* Floor : Largest number in array <= n\n",
        "\n",
        "* Ceil : Smallest number in array >=n"
      ],
      "metadata": {
        "id": "GtrFwAaz0Vk-"
      }
    },
    {
      "cell_type": "code",
      "source": [
        "def ceil(arr,n):\n",
        "  arr.sort()\n",
        "  low=0\n",
        "  high=len(arr)-1\n",
        "  ans=-1\n",
        "  while(low<=high):\n",
        "    mid=(low+high)//2\n",
        "    # May be mid is answer\n",
        "    if arr[mid]>=n:\n",
        "      ans=arr[mid]\n",
        "      # Look for smaller index on left\n",
        "      high=mid-1\n",
        "    else:\n",
        "      # Look for right\n",
        "      low=mid+1\n",
        "  return ans\n",
        "arr=[10,20,30,25,40]\n",
        "ceil(arr,21)\n"
      ],
      "metadata": {
        "colab": {
          "base_uri": "https://localhost:8080/"
        },
        "id": "tsdd_FMPRDD2",
        "outputId": "bd8eb382-06d4-4c8f-8b2d-4f105b4296de"
      },
      "execution_count": null,
      "outputs": [
        {
          "output_type": "execute_result",
          "data": {
            "text/plain": [
              "25"
            ]
          },
          "metadata": {},
          "execution_count": 32
        }
      ]
    },
    {
      "cell_type": "code",
      "source": [
        "def floor(arr,n):\n",
        "  arr.sort()\n",
        "  low=0\n",
        "  high=len(arr)-1\n",
        "  ans=-1\n",
        "  while(low<=high):\n",
        "    mid=(low+high)//2\n",
        "    # May be mid is answer\n",
        "    if arr[mid]<=n:\n",
        "      ans=arr[mid]\n",
        "      # Look for smaller index on right\n",
        "      low=mid+1\n",
        "    else:\n",
        "      # Look for left\n",
        "      high=mid-1\n",
        "  return ans\n",
        "\n",
        "arr=[10,20,30,25,40]\n",
        "floor(arr,21)"
      ],
      "metadata": {
        "colab": {
          "base_uri": "https://localhost:8080/"
        },
        "id": "n86aNLyCRDFd",
        "outputId": "901b1e91-9a30-4ff9-988e-2d15406d9d83"
      },
      "execution_count": null,
      "outputs": [
        {
          "output_type": "execute_result",
          "data": {
            "text/plain": [
              "20"
            ]
          },
          "metadata": {},
          "execution_count": 34
        }
      ]
    },
    {
      "cell_type": "markdown",
      "source": [
        "# **First and Last Occurrences in Array**"
      ],
      "metadata": {
        "id": "ZZAVpsxn_Tv-"
      }
    },
    {
      "cell_type": "code",
      "source": [
        "# Method 1\n",
        "# TC:O(n)\n",
        "# SC:O(1)\n",
        "n=int(input(\"Enter the number to find the occurance : \"))\n",
        "arr=[2,4,6,8,8,8,9,11,13]\n",
        "arr.sort()\n",
        "first=-1\n",
        "last=-1\n",
        "for i in range(len(arr)):\n",
        "  if arr[i]==n:\n",
        "    #check for first occurance\n",
        "    if first==-1:\n",
        "      first=i\n",
        "      last=i\n",
        "    else:\n",
        "      last=i\n",
        "print(first,last)\n"
      ],
      "metadata": {
        "id": "3mBXtekuRDJW",
        "colab": {
          "base_uri": "https://localhost:8080/"
        },
        "outputId": "ae906937-ee78-4a8e-b4f6-573debd4b887"
      },
      "execution_count": null,
      "outputs": [
        {
          "output_type": "stream",
          "name": "stdout",
          "text": [
            "Enter the number to find the occurance : 8\n",
            "3 5\n"
          ]
        }
      ]
    },
    {
      "cell_type": "code",
      "source": [
        "# Method 2\n",
        "# TC:2*(log2^n)\n",
        "# SC:O(1)\n",
        "def lower_bound(arr,n):\n",
        "  arr.sort()\n",
        "  low=0\n",
        "  high=len(arr)-1\n",
        "  ans=len(arr)\n",
        "  while(low<=high):\n",
        "    mid=(low+high)//2\n",
        "    # May be mid is answer\n",
        "    if arr[mid]>=n:\n",
        "      ans=mid\n",
        "      # Look for smaller index on left\n",
        "      high=mid-1\n",
        "    else:\n",
        "      # Look for right\n",
        "      low=mid+1\n",
        "  return ans\n",
        "\n",
        "def upper_bound(arr,n):\n",
        "  arr.sort()\n",
        "  low=0\n",
        "  high=len(arr)-1\n",
        "  ans=len(arr)\n",
        "  while(low<=high):\n",
        "    mid=(low+high)//2\n",
        "    # May be mid is answer\n",
        "    if arr[mid]>n:\n",
        "      ans=mid\n",
        "      # Look for smaller index on left\n",
        "      high=mid-1\n",
        "    else:\n",
        "      # Look for right\n",
        "      low=mid+1\n",
        "  return ans\n",
        "\n",
        "n=int(input(\"Enter the number to find the occurance : \"))\n",
        "arr=[2,4,6,8,8,8,9,11,13]\n",
        "lb=lower_bound(arr,n)\n",
        "ub=upper_bound(arr,n)\n",
        "if lb==n or arr[lb]!=n:\n",
        "  print(-1,-1)\n",
        "else:\n",
        "  print(lb,ub-1)"
      ],
      "metadata": {
        "id": "XqXi3XPpRDLM",
        "colab": {
          "base_uri": "https://localhost:8080/"
        },
        "outputId": "17c139bd-89e5-4426-b11c-c6b4fc58009c"
      },
      "execution_count": null,
      "outputs": [
        {
          "output_type": "stream",
          "name": "stdout",
          "text": [
            "Enter the number to find the occurance : 8\n",
            "3 5\n"
          ]
        }
      ]
    },
    {
      "cell_type": "code",
      "source": [
        "# Method 3\n",
        "# TC:2*(log2^n)\n",
        "# SC:O(1)\n",
        "def first_occure(arr,x):\n",
        "  first=-1\n",
        "  arr.sort()\n",
        "  low=0\n",
        "  high=len(arr)-1\n",
        "  while low<=high:\n",
        "    mid=(low+high)//2\n",
        "    if arr[mid]==x:\n",
        "      first=mid\n",
        "      high=mid-1\n",
        "    elif arr[mid]<x:\n",
        "      low=mid+1\n",
        "    else:\n",
        "      high=mid-1\n",
        "  return first\n",
        "\n",
        "def last_occurance(arr,x):\n",
        "  arr.sort()\n",
        "  last=-1\n",
        "  low=0\n",
        "  high=len(arr)-1\n",
        "  while(low<=high):\n",
        "    mid=(low+high)//2\n",
        "    if arr[mid]==x:\n",
        "      last=mid\n",
        "      low=mid+1\n",
        "    elif arr[mid]<x:\n",
        "      low=mid+1\n",
        "    else:\n",
        "      high=mid-1\n",
        "  return last\n",
        "\n",
        "n=int(input(\"Enter the number to find the occurance : \"))\n",
        "arr=[2,4,6,8,8,8,9,11,13]\n",
        "first=first_occure(arr,n)\n",
        "last=last_occurance(arr,n)\n",
        "if first==-1:\n",
        "  print(-1,-1)\n",
        "else:\n",
        "  print(first,last)\n",
        "\n"
      ],
      "metadata": {
        "id": "SVKw0-2ZRDPQ",
        "colab": {
          "base_uri": "https://localhost:8080/"
        },
        "outputId": "3bcb34f4-c07d-4694-ad66-d8285249d9f8"
      },
      "execution_count": null,
      "outputs": [
        {
          "output_type": "stream",
          "name": "stdout",
          "text": [
            "Enter the number to find the occurance : 8\n",
            "3 5\n"
          ]
        }
      ]
    },
    {
      "cell_type": "markdown",
      "source": [
        "#**Count occurrences in Array**"
      ],
      "metadata": {
        "id": "AHYHFfgTePsE"
      }
    },
    {
      "cell_type": "code",
      "source": [
        "# Method 1\n",
        "# TC:2*(log2^n)\n",
        "# SC:O(1)\n",
        "def first_occure(arr,x):\n",
        "  first=-1\n",
        "  arr.sort()\n",
        "  low=0\n",
        "  high=len(arr)-1\n",
        "  while low<=high:\n",
        "    mid=(low+high)//2\n",
        "    if arr[mid]==x:\n",
        "      first=mid\n",
        "      high=mid-1\n",
        "    elif arr[mid]<x:\n",
        "      low=mid+1\n",
        "    else:\n",
        "      high=mid-1\n",
        "  return first\n",
        "\n",
        "def last_occurance(arr,x):\n",
        "  arr.sort()\n",
        "  last=-1\n",
        "  low=0\n",
        "  high=len(arr)-1\n",
        "  while(low<=high):\n",
        "    mid=(low+high)//2\n",
        "    if arr[mid]==x:\n",
        "      last=mid\n",
        "      low=mid+1\n",
        "    elif arr[mid]<x:\n",
        "      low=mid+1\n",
        "    else:\n",
        "      high=mid-1\n",
        "  return last\n",
        "\n",
        "n=int(input(\"Enter the number to find the occurance : \"))\n",
        "arr=[2,4,6,8,8,8,9,11,13]\n",
        "first=first_occure(arr,n)\n",
        "last=last_occurance(arr,n)\n",
        "if first==-1:\n",
        "  print(0)\n",
        "else:\n",
        "  print(last-first+1)\n",
        "\n"
      ],
      "metadata": {
        "id": "xKiucq5JRDRc",
        "colab": {
          "base_uri": "https://localhost:8080/"
        },
        "outputId": "61f1e1bd-2c6d-4ecb-f482-8e758da5836a"
      },
      "execution_count": null,
      "outputs": [
        {
          "output_type": "stream",
          "name": "stdout",
          "text": [
            "Enter the number to find the occurance : 9\n",
            "1\n"
          ]
        }
      ]
    },
    {
      "cell_type": "markdown",
      "source": [
        "# **Search Element in Rotated Sorted Array - I**\n",
        "* Find the index number where the array is rotated\n",
        "* Array must have unique elements"
      ],
      "metadata": {
        "id": "ERfHn0MwBCDJ"
      }
    },
    {
      "cell_type": "code",
      "source": [
        "# Method 1\n",
        "# TC: O(n)\n",
        "# SC: O(1)\n",
        "n=int(input('Enter the target : '))\n",
        "arr=[7,8,9,1,2,3,4,5,6]\n",
        "for i in range(len(arr)):\n",
        "  if arr[i]==n:\n",
        "    print(i)"
      ],
      "metadata": {
        "id": "sNFPtdgPRDVE",
        "colab": {
          "base_uri": "https://localhost:8080/"
        },
        "outputId": "6ec20bbc-7736-468f-99aa-58e5b4befb5e"
      },
      "execution_count": null,
      "outputs": [
        {
          "output_type": "stream",
          "name": "stdout",
          "text": [
            "Enter the target : 1\n",
            "3\n"
          ]
        }
      ]
    },
    {
      "cell_type": "code",
      "source": [
        "# Method 2\n",
        "# TC: O(log2^n)\n",
        "# SC: O(1)\n",
        "n=int(input('Enter the target : '))\n",
        "arr=[7,8,9,1,2,3,4,5,6]\n",
        "def rotated_arr(arr,n):\n",
        "  low=0\n",
        "  high=len(arr)-1\n",
        "  while(low<=high):\n",
        "    mid=(low+high)//2\n",
        "    if arr[mid]==n:\n",
        "      return mid\n",
        "    # left half of array are sorted\n",
        "    if arr[low]<=arr[mid]:\n",
        "      # Check if element in left half\n",
        "      if arr[low]<=n and n<=arr[mid]:\n",
        "        high=mid-1\n",
        "      else:\n",
        "        low=mid+1\n",
        "    # Right half of array are sorted\n",
        "    else:\n",
        "      # Check if element in right half\n",
        "      if arr[mid]<=n and n<=arr[high]:\n",
        "        low=mid+1\n",
        "      else:\n",
        "        high=mid-1\n",
        "  return mid\n",
        "rotated_arr(arr,n)"
      ],
      "metadata": {
        "id": "OnGTX3ysRDXZ",
        "colab": {
          "base_uri": "https://localhost:8080/"
        },
        "outputId": "ec37a04f-c54e-4fec-fe4e-1cfb714fbdb3"
      },
      "execution_count": null,
      "outputs": [
        {
          "name": "stdout",
          "output_type": "stream",
          "text": [
            "Enter the target : 1\n"
          ]
        },
        {
          "output_type": "execute_result",
          "data": {
            "text/plain": [
              "3"
            ]
          },
          "metadata": {},
          "execution_count": 3
        }
      ]
    },
    {
      "cell_type": "markdown",
      "source": [
        "# **Search Element in Rotated Sorted Array - 2**\n",
        "* Find the element in the array is present or not\n",
        "* Array may or may not have unique elements"
      ],
      "metadata": {
        "id": "jYFmYzr4JXcZ"
      }
    },
    {
      "cell_type": "code",
      "source": [
        "# Method 1\n",
        "# TC: O(log2^n)\n",
        "# SC: O(1)\n",
        "n=int(input('Enter the target : '))\n",
        "arr=[3,3,9,3,3,3,3]\n",
        "def rotated_arr(arr,n):\n",
        "  low=0\n",
        "  high=len(arr)-1\n",
        "  while(low<=high):\n",
        "    mid=(low+high)//2\n",
        "    if arr[mid]==n:\n",
        "      return True\n",
        "    if arr[low]==arr[mid] and arr[mid]==arr[high]:\n",
        "      low=low+1\n",
        "      high=high-1\n",
        "      continue\n",
        "    # left half of array are sorted\n",
        "    if arr[low]<=arr[mid]:\n",
        "      # Check if element in left half\n",
        "      if arr[low]<=n and n<=arr[mid]:\n",
        "        high=mid-1\n",
        "      else:\n",
        "        low=mid+1\n",
        "    # Right half of array are sorted\n",
        "    else:\n",
        "      # Check if element in right half\n",
        "      if arr[mid]<=n and n<=arr[high]:\n",
        "        low=mid+1\n",
        "      else:\n",
        "        high=mid-1\n",
        "  return False\n",
        "rotated_arr(arr,n)"
      ],
      "metadata": {
        "id": "kWroce-iRDbW",
        "colab": {
          "base_uri": "https://localhost:8080/"
        },
        "outputId": "921ea018-e583-4360-dd4d-10cd2deaab73"
      },
      "execution_count": null,
      "outputs": [
        {
          "name": "stdout",
          "output_type": "stream",
          "text": [
            "Enter the target : 3\n"
          ]
        },
        {
          "output_type": "execute_result",
          "data": {
            "text/plain": [
              "True"
            ]
          },
          "metadata": {},
          "execution_count": 6
        }
      ]
    },
    {
      "cell_type": "markdown",
      "source": [
        "# **Minimum in Rotated Sorted Array**"
      ],
      "metadata": {
        "id": "GyuAjBymbv8o"
      }
    },
    {
      "cell_type": "code",
      "source": [
        "import math\n",
        "def find_min(arr):\n",
        "  low=0\n",
        "  high=len(arr)-1\n",
        "  ans=math.inf\n",
        "  while low<=high:\n",
        "    mid=(low+high)//2\n",
        "    if arr[low]<=arr[mid]:\n",
        "      ans=min(ans,arr[low])\n",
        "      low=mid+1\n",
        "    else:\n",
        "      high=mid-1\n",
        "      ans=min(ans,arr[mid])\n",
        "  return ans\n",
        "arr=[5,6,7,1,2,3]\n",
        "find_min(arr)"
      ],
      "metadata": {
        "id": "3ka2WmbSRDdn",
        "colab": {
          "base_uri": "https://localhost:8080/"
        },
        "outputId": "0c29366a-58fb-4303-ab4c-2ef8e5dc8f44"
      },
      "execution_count": null,
      "outputs": [
        {
          "output_type": "execute_result",
          "data": {
            "text/plain": [
              "1"
            ]
          },
          "metadata": {},
          "execution_count": 3
        }
      ]
    },
    {
      "cell_type": "markdown",
      "source": [
        "# **Find out how many times array has been rotated**"
      ],
      "metadata": {
        "id": "xBMAe1CXsVcp"
      }
    },
    {
      "cell_type": "code",
      "source": [
        "import math\n",
        "def find_min(arr):\n",
        "  low=0\n",
        "  high=len(arr)-1\n",
        "  ans=math.inf\n",
        "  index=-1\n",
        "  while low<=high:\n",
        "    mid=(low+high)//2\n",
        "    if arr[low]<=arr[mid]:\n",
        "      if arr[low]<ans:\n",
        "        ans=arr[low]\n",
        "        index=low\n",
        "      low=mid+1\n",
        "    else:\n",
        "      high=mid-1\n",
        "      ans=min(ans,arr[mid])\n",
        "      index=mid\n",
        "  return index\n",
        "arr=[4,5,6,7,1,2,3]\n",
        "find_min(arr)"
      ],
      "metadata": {
        "id": "Bt16l0EnRDhW",
        "colab": {
          "base_uri": "https://localhost:8080/"
        },
        "outputId": "aba48a83-e4ae-4b07-bda3-58e089c154d2"
      },
      "execution_count": null,
      "outputs": [
        {
          "output_type": "execute_result",
          "data": {
            "text/plain": [
              "4"
            ]
          },
          "metadata": {},
          "execution_count": 6
        }
      ]
    },
    {
      "cell_type": "markdown",
      "source": [
        "# **Single Element in Sorted Array**"
      ],
      "metadata": {
        "id": "srINik3KHJAk"
      }
    },
    {
      "cell_type": "code",
      "source": [
        "# Method 1\n",
        "# TC : O(n)\n",
        "arr=[1,1,2,2,3,3,4,4,5,5,6,6,7]\n",
        "n=len(arr)\n",
        "if n==1:\n",
        "  print(arr[0])\n",
        "for i in range(n):\n",
        "  if i==0:\n",
        "    if arr[i]!=arr[i+1]:\n",
        "      print(arr[i])\n",
        "      break\n",
        "  elif i==n-1:\n",
        "    if arr[i]!=arr[i-1]:\n",
        "      print(arr[i])\n",
        "      break\n",
        "  else:\n",
        "    if arr[i]!=arr[i+1] and arr[i]!=arr[i-1]:\n",
        "      print(arr[i])\n",
        "      break\n"
      ],
      "metadata": {
        "id": "ukv8M-duRDjo",
        "colab": {
          "base_uri": "https://localhost:8080/"
        },
        "outputId": "2a5baed3-fda2-43da-8fc4-47606e3ecc70"
      },
      "execution_count": null,
      "outputs": [
        {
          "output_type": "stream",
          "name": "stdout",
          "text": [
            "7\n"
          ]
        }
      ]
    },
    {
      "cell_type": "code",
      "source": [
        "# Method 1\n",
        "# TC : O(log2^n)\n",
        "arr=[1,1,2,2,3,3,4,5,5,6,6]\n",
        "n=len(arr)\n",
        "if n==1:\n",
        "  print(arr[0])\n",
        "if arr[0]!=arr[1]:\n",
        "  print(arr[0])\n",
        "if arr[n-1]!=arr[n-2]:\n",
        "  print(arr[n-1])\n",
        "low=1\n",
        "high=n-2\n",
        "while(arr[low]<=arr[high]):\n",
        "  mid=(low+high)//2\n",
        "  if arr[mid]!=arr[mid-1] and arr[mid]!=arr[mid+1]:\n",
        "    print(arr[mid])\n",
        "  if (mid%2==1 and arr[mid]==arr[mid-1]) or (mid%2==0 and arr[mid]==arr[mid+1]):\n",
        "    low=mid+1\n",
        "  else:\n",
        "    high=mid-1\n"
      ],
      "metadata": {
        "id": "63umU5zxRDnj",
        "colab": {
          "base_uri": "https://localhost:8080/"
        },
        "outputId": "50166eb0-ed8c-465e-b1de-55ad2c68104d"
      },
      "execution_count": null,
      "outputs": [
        {
          "output_type": "stream",
          "name": "stdout",
          "text": [
            "4\n"
          ]
        }
      ]
    },
    {
      "cell_type": "markdown",
      "source": [
        "# **Find Peak Element**"
      ],
      "metadata": {
        "id": "-rzQ2m3lUIug"
      }
    },
    {
      "cell_type": "code",
      "source": [
        "arr=[1,2,3,4,5,7,6]\n",
        "n=len(arr)\n",
        "for i in range(n):\n",
        "  if (i==0 or arr[i-1]<arr[i]) and (i==n-1 or arr[i]>arr[i+1]):\n",
        "    print(arr[i])\n",
        "    break"
      ],
      "metadata": {
        "id": "DDIzPEU0RDpm",
        "colab": {
          "base_uri": "https://localhost:8080/"
        },
        "outputId": "c544309f-b4e3-41af-c328-5b7d0c7c4fd9"
      },
      "execution_count": null,
      "outputs": [
        {
          "output_type": "stream",
          "name": "stdout",
          "text": [
            "1\n"
          ]
        }
      ]
    },
    {
      "cell_type": "markdown",
      "source": [
        "## **Finding Apporximate Sqrt of a number using Binary Search**"
      ],
      "metadata": {
        "id": "A62rjR_3NSmf"
      }
    },
    {
      "cell_type": "code",
      "source": [
        "#Method 1\n",
        "# TC: O(n)\n",
        "# SC: O(1)\n",
        "n=int(input(\"Enter a number to find squar root : \"))\n",
        "ans=1\n",
        "for i in range(n):\n",
        "  if i*i <=n:\n",
        "    ans=i\n",
        "  else:\n",
        "    break\n",
        "print(ans)\n",
        "\n"
      ],
      "metadata": {
        "id": "pAIWyeUDRDtj",
        "colab": {
          "base_uri": "https://localhost:8080/"
        },
        "outputId": "f7852acc-f9db-4fe8-fb7f-e7c45014d0fc"
      },
      "execution_count": null,
      "outputs": [
        {
          "output_type": "stream",
          "name": "stdout",
          "text": [
            "Enter a number to find squar root : 28\n",
            "5\n"
          ]
        }
      ]
    },
    {
      "cell_type": "code",
      "source": [
        "#Method 1\n",
        "# TC: O(log2^n)\n",
        "# SC: O(1)\n",
        "n=int(input(\"Enter a number to find squar root : \"))\n",
        "ans=1\n",
        "low=1\n",
        "high=n\n",
        "while low<=high:\n",
        "  mid=(low+high)//2\n",
        "  val=mid*mid\n",
        "  if val<=n:\n",
        "    ans=mid\n",
        "    low=mid+1\n",
        "  else:\n",
        "    high=mid-1\n",
        "print(high)"
      ],
      "metadata": {
        "id": "fN2D8YTxRDvp",
        "colab": {
          "base_uri": "https://localhost:8080/"
        },
        "outputId": "f91f4d64-f3f5-4640-be3c-513fc0637c94"
      },
      "execution_count": null,
      "outputs": [
        {
          "output_type": "stream",
          "name": "stdout",
          "text": [
            "Enter a number to find squar root : 28\n",
            "5\n"
          ]
        }
      ]
    },
    {
      "cell_type": "markdown",
      "source": [
        "# **Find the Nth root of an Integer**\n",
        "\n",
        "\n",
        "1.   m=27 and n=3 then find 3root(27)=3\n",
        "2.   List item m=64 and n=3 find 3root(64)=4\n",
        "\n"
      ],
      "metadata": {
        "id": "QEVBjwppS6cL"
      }
    },
    {
      "cell_type": "code",
      "source": [
        "# Method 1\n",
        "# TC:O(n*log2^n)\n",
        "n=int(input(\"Enter Number to find the root : \"))\n",
        "n_root=int(input(\"Enter a which root you find : \"))\n",
        "x=(lambda i,n_root:i**n_root)\n",
        "for i in range(1,n+1):\n",
        "  # Responsible for log2^n\n",
        "  if x(i,n_root)==n:\n",
        "    print(i)\n",
        "    break\n",
        "  elif x(i,n_root)>n:\n",
        "    print(-1)\n",
        "    break\n"
      ],
      "metadata": {
        "id": "0olg-PQjRDzj",
        "colab": {
          "base_uri": "https://localhost:8080/"
        },
        "outputId": "a38a354d-b3a0-48d4-d8f6-8fe31a7628ad"
      },
      "execution_count": null,
      "outputs": [
        {
          "output_type": "stream",
          "name": "stdout",
          "text": [
            "Enter Number to find the root : 16\n",
            "Enter a which root you find : 1\n",
            "16\n"
          ]
        }
      ]
    },
    {
      "cell_type": "code",
      "source": [
        "# Method 2\n",
        "# TC:O(log2^n*log2^n)\n",
        "n=int(input(\"Enter Number to find the root : \"))\n",
        "n_root=int(input(\"Enter a which root you find : \"))\n",
        "x=(lambda a,b:a**b)\n",
        "low=1\n",
        "high=n\n",
        "while low<=high:\n",
        "  mid=(low+high)//2\n",
        "  if x(mid,n_root)==n:\n",
        "    print(mid)\n",
        "    break\n",
        "  elif x(mid,n_root)>n:\n",
        "    high=mid-1\n",
        "  else:\n",
        "    low=mid+1\n",
        "else:\n",
        "  print(-1)\n"
      ],
      "metadata": {
        "id": "XJ7WEGwVRD1j",
        "colab": {
          "base_uri": "https://localhost:8080/"
        },
        "outputId": "2292aef2-bebf-4c11-b8eb-44f3d6739cc1"
      },
      "execution_count": null,
      "outputs": [
        {
          "output_type": "stream",
          "name": "stdout",
          "text": [
            "Enter Number to find the root : 27\n",
            "Enter a which root you find : 4\n",
            "-1\n"
          ]
        }
      ]
    },
    {
      "cell_type": "markdown",
      "source": [
        "## **Koko Eating Bananas**\n",
        "\n",
        "\n",
        "*   Given an list of banana and hours\n",
        "*   You need to find the min eat banana per hour withen given hours\n",
        "\n"
      ],
      "metadata": {
        "id": "QTfIopffU8fb"
      }
    },
    {
      "cell_type": "code",
      "source": [
        "# Method 1\n",
        "# TC: O(max(arr)*len(arr))\n",
        "# SC: O(1)\n",
        "import math\n",
        "arr=[3,6,7,11]\n",
        "h=8\n",
        "def eat_hr(arr,h):\n",
        "  m=max(arr)\n",
        "  m_hr=0\n",
        "  i=1\n",
        "  while i<m:\n",
        "    for j in arr:\n",
        "      m_hr+=math.ceil(j/i)\n",
        "    if m_hr==h:\n",
        "      print(i)\n",
        "      break\n",
        "    i+=1\n",
        "    m_hr=0\n",
        "eat_hr(arr,h)"
      ],
      "metadata": {
        "id": "UVUmkDeCRD5e",
        "colab": {
          "base_uri": "https://localhost:8080/"
        },
        "outputId": "ef2a00f8-5ec5-4c82-e97c-1dec371d9e9a"
      },
      "execution_count": null,
      "outputs": [
        {
          "output_type": "stream",
          "name": "stdout",
          "text": [
            "4\n"
          ]
        }
      ]
    },
    {
      "cell_type": "code",
      "source": [
        "# Method 2\n",
        "# TC: O(log2^(max(arr))*len(arr))\n",
        "# SC: O(1)\n",
        "import math\n",
        "def eat_banana(arr,epr):\n",
        "  total_hour=0\n",
        "  for i in arr:\n",
        "    total_hour+=math.ceil(i/epr)\n",
        "  return total_hour\n",
        "\n",
        "def bs_eat_banana(arr,h):\n",
        "  low=0\n",
        "  high=max(arr)\n",
        "  ans=0\n",
        "  while low<=high:\n",
        "    mid=(low+high)//2\n",
        "    total_hour=eat_banana(arr,mid)\n",
        "    if total_hour<=h:\n",
        "      ans=mid\n",
        "      high=mid-1\n",
        "    else:\n",
        "      low=mid+1\n",
        "  return ans\n",
        "arr=[3,6,7,11]\n",
        "h=8\n",
        "bs_eat_banana(arr,h)"
      ],
      "metadata": {
        "id": "r8Hsr_fYRD7X",
        "colab": {
          "base_uri": "https://localhost:8080/"
        },
        "outputId": "01624c07-36dd-4593-c740-ebf1393afee0"
      },
      "execution_count": null,
      "outputs": [
        {
          "output_type": "execute_result",
          "data": {
            "text/plain": [
              "4"
            ]
          },
          "metadata": {},
          "execution_count": 1
        }
      ]
    },
    {
      "cell_type": "markdown",
      "source": [
        "## **Minimum days to make M bouquets**"
      ],
      "metadata": {
        "id": "gCG2adJQnYfM"
      }
    },
    {
      "cell_type": "code",
      "source": [
        "# Method 1\n",
        "# TC O(mini-maxi+1)*N\n",
        "def possible(arr,day,m,k):\n",
        "  n=len(arr)\n",
        "  count=0\n",
        "  no_of_bk=0\n",
        "  for i in range(n):\n",
        "    if arr[i]<=day:\n",
        "      count+=1\n",
        "    else:\n",
        "      no_of_bk+=count/k\n",
        "      count=0\n",
        "  no_of_bk+=count/k\n",
        "  if no_of_bk>=m:\n",
        "    return True\n",
        "  else:\n",
        "    return False\n",
        "\n",
        "arr=[7,7,7,7,13,11,12,7]\n",
        "m=2\n",
        "k=3\n",
        "mini=min(arr)\n",
        "maxi=max(arr)\n",
        "for i in range(mini,maxi+1):\n",
        "  if possible(arr,i,m,k)==True:\n",
        "    print(i)\n",
        "    break\n",
        "else:\n",
        "  print(-1)"
      ],
      "metadata": {
        "id": "0ldB2eN0RD_i",
        "colab": {
          "base_uri": "https://localhost:8080/"
        },
        "outputId": "f8193208-df7a-4f1b-8315-f4b90de332e7"
      },
      "execution_count": null,
      "outputs": [
        {
          "output_type": "stream",
          "name": "stdout",
          "text": [
            "12\n"
          ]
        }
      ]
    },
    {
      "cell_type": "code",
      "source": [
        "# Method 2\n",
        "# TC O(log2^(maxi-min+1))*N\n",
        "def possible(arr,day,m,k):\n",
        "  n=len(arr)\n",
        "  count=0\n",
        "  no_of_bk=0\n",
        "  for i in range(n):\n",
        "    if arr[i]<=day:\n",
        "      count+=1\n",
        "    else:\n",
        "      no_of_bk+=count/k\n",
        "      count=0\n",
        "  no_of_bk+=count/k\n",
        "  if no_of_bk>=m:\n",
        "    return True\n",
        "  else:\n",
        "    return False\n",
        "\n",
        "\n",
        "def bn_possible(arr,m,k):\n",
        "  low=min(arr)\n",
        "  high=max(arr)\n",
        "  ans=0\n",
        "  while low<=high:\n",
        "    mid=(low+high)//2\n",
        "    if possible(arr,mid,m,k)==True:\n",
        "      ans=mid\n",
        "      high=mid-1\n",
        "    else:\n",
        "      low=mid+1\n",
        "  return ans\n",
        "\n",
        "arr=[7,7,7,7,13,11,12,7]\n",
        "m=2\n",
        "k=3\n",
        "bn_possible(arr,m,k)\n"
      ],
      "metadata": {
        "id": "kfawKPtjRECL",
        "colab": {
          "base_uri": "https://localhost:8080/"
        },
        "outputId": "633308d8-1101-43a9-fb75-c33967c0bcc0"
      },
      "execution_count": null,
      "outputs": [
        {
          "output_type": "execute_result",
          "data": {
            "text/plain": [
              "12"
            ]
          },
          "metadata": {},
          "execution_count": 5
        }
      ]
    },
    {
      "cell_type": "markdown",
      "source": [
        "## **Find the Smallest Divisor Given a Threshold**"
      ],
      "metadata": {
        "id": "e18fU6V6y2RL"
      }
    },
    {
      "cell_type": "code",
      "source": [
        "# Method 1\n",
        "# TC: O(maxi)*(len(arr))\n",
        "# SC: O(1)\n",
        "import math\n",
        "def fnd_diviser(arr,thresold):\n",
        "  mini=min(arr)\n",
        "  maxi=max(arr)\n",
        "  temp=0\n",
        "  while mini<=maxi:\n",
        "    for i in arr:\n",
        "      temp+=math.ceil(i/mini)\n",
        "    if temp<=thresold:\n",
        "      return mini\n",
        "    temp=0\n",
        "    mini+=1\n",
        "  return -1\n",
        "arr=[1,2,5,9]\n",
        "thresold=6\n",
        "fnd_diviser(arr,thresold)"
      ],
      "metadata": {
        "id": "dt4x0xf3REFi",
        "colab": {
          "base_uri": "https://localhost:8080/"
        },
        "outputId": "2118560d-2bfd-448d-b26b-8b9deebc8ed7"
      },
      "execution_count": null,
      "outputs": [
        {
          "output_type": "execute_result",
          "data": {
            "text/plain": [
              "5"
            ]
          },
          "metadata": {},
          "execution_count": 13
        }
      ]
    },
    {
      "cell_type": "code",
      "source": [
        "# Method 1\n",
        "# TC: O(log2^(max))*O(n)\n",
        "# SC: O(1)\n",
        "import math\n",
        "def bn_fnd_diviser(arr,thresold):\n",
        "  low=min(arr)\n",
        "  high=max(arr)\n",
        "  sum=0\n",
        "  ans=0\n",
        "  while low<=high:\n",
        "    mid=(low+high)//2\n",
        "    for i in arr:\n",
        "      sum+=math.ceil(i/mid)\n",
        "    if sum<=thresold:\n",
        "      ans=mid\n",
        "      high=mid-1\n",
        "    else:\n",
        "      low=mid+1\n",
        "    sum=0\n",
        "  return ans\n",
        "arr=[1,2,5,9]\n",
        "thresold=4\n",
        "bn_fnd_diviser(arr,thresold)"
      ],
      "metadata": {
        "id": "hVISwBEBREHi",
        "colab": {
          "base_uri": "https://localhost:8080/"
        },
        "outputId": "66d908b1-7107-485a-b483-420e90b562a8"
      },
      "execution_count": null,
      "outputs": [
        {
          "output_type": "execute_result",
          "data": {
            "text/plain": [
              "9"
            ]
          },
          "metadata": {},
          "execution_count": 18
        }
      ]
    },
    {
      "cell_type": "markdown",
      "source": [
        "## **Capacity to Ship Packages within D Days**"
      ],
      "metadata": {
        "id": "rOFvpxtL92Hz"
      }
    },
    {
      "cell_type": "code",
      "source": [
        "# Method 1\n",
        "# TC: O(s-maxi+1)*(n)\n",
        "# SC: O(1)\n",
        "def load_ship(wt,cap):\n",
        "  days=1\n",
        "  load=0\n",
        "  maxi=max(wt)\n",
        "  s=sum(wt)\n",
        "  for i in range(len(wt)):\n",
        "    if load+wt[i]>cap:\n",
        "      days+=1\n",
        "      load=wt[i]\n",
        "    else:\n",
        "      load+=wt[i]\n",
        "  return days\n",
        "\n",
        "wt=[1,2,3,4,5,6,7,8,9,10]\n",
        "days=5\n",
        "maxi=max(wt)\n",
        "s=sum(wt)\n",
        "\n",
        "for i in range(maxi,s+1):\n",
        "  if load_ship(wt,i)<=days:\n",
        "    print(i)\n",
        "    break\n",
        "else:\n",
        "  print(-1)"
      ],
      "metadata": {
        "id": "eev05-QjRELe",
        "colab": {
          "base_uri": "https://localhost:8080/"
        },
        "outputId": "127bdf9a-a50f-40ad-acf5-58b949ab5733"
      },
      "execution_count": null,
      "outputs": [
        {
          "output_type": "stream",
          "name": "stdout",
          "text": [
            "15\n"
          ]
        }
      ]
    },
    {
      "cell_type": "code",
      "source": [
        "# Method 1\n",
        "# TC: O(log2^(s-maxi+1))*(n)\n",
        "# SC: O(1)\n",
        "def load_ship(wt,cap):\n",
        "  days=1\n",
        "  load=0\n",
        "  maxi=max(wt)\n",
        "  s=sum(wt)\n",
        "  for i in range(len(wt)):\n",
        "    if load+wt[i]>cap:\n",
        "      days+=1\n",
        "      load=wt[i]\n",
        "    else:\n",
        "      load+=wt[i]\n",
        "  return days\n",
        "\n",
        "def bn_load(wt,days):\n",
        "  low=max(wt)\n",
        "  high=sum(wt)\n",
        "  ans=0\n",
        "  while low<=high:\n",
        "    mid=(low+high)//2\n",
        "    if load_ship(wt,mid)<=days:\n",
        "      ans=mid\n",
        "      high=mid-1\n",
        "    else:\n",
        "      low=mid+1\n",
        "  return ans\n",
        "\n",
        "wt=[1,2,3,4,5,6,7,8,9,10]\n",
        "days=5\n",
        "bn_load(wt,days)"
      ],
      "metadata": {
        "id": "uXifZOwGRERc",
        "colab": {
          "base_uri": "https://localhost:8080/"
        },
        "outputId": "4c1b7a8c-16cb-4e7c-d0fd-33659cb917ab"
      },
      "execution_count": null,
      "outputs": [
        {
          "output_type": "execute_result",
          "data": {
            "text/plain": [
              "17"
            ]
          },
          "metadata": {},
          "execution_count": 7
        }
      ]
    },
    {
      "cell_type": "markdown",
      "source": [
        "## **Kth Missing Positive Number**"
      ],
      "metadata": {
        "id": "aPP4nO-rhcz1"
      }
    },
    {
      "cell_type": "code",
      "source": [
        "# Method 1\n",
        "# TC: O(n)\n",
        "# SC: O(1)\n",
        "arr=[2,3,4,7,11]\n",
        "k=5\n",
        "for i in arr:\n",
        "  if i<=k:\n",
        "    k+=1\n",
        "  else:\n",
        "    print(k)\n",
        "    break"
      ],
      "metadata": {
        "id": "ofvb3p1pRETf",
        "colab": {
          "base_uri": "https://localhost:8080/"
        },
        "outputId": "768162a3-325e-4061-b951-1db7844fa493"
      },
      "execution_count": null,
      "outputs": [
        {
          "output_type": "stream",
          "name": "stdout",
          "text": [
            "9\n"
          ]
        }
      ]
    },
    {
      "cell_type": "code",
      "source": [
        "# Method 2\n",
        "# TC: O(log2^n)\n",
        "# SC: O(1)\n",
        "def bn_missing(arr,k):\n",
        "  low=0\n",
        "  high=len(arr)-1\n",
        "  while low<=high:\n",
        "    mid=(low+high)//2\n",
        "    missing=arr[mid]-(mid+1)\n",
        "    if missing<k:\n",
        "      low=mid+1\n",
        "    else:\n",
        "      high=mid-1\n",
        "  return low+k\n",
        "arr=[2,3,4,7,11]\n",
        "k=5\n",
        "bn_missing(arr,k)\n",
        "\n"
      ],
      "metadata": {
        "id": "VSnnOHXfREXM",
        "colab": {
          "base_uri": "https://localhost:8080/"
        },
        "outputId": "a8c94a7b-9bf2-4137-c31e-e6c4f45ce8d1"
      },
      "execution_count": null,
      "outputs": [
        {
          "output_type": "execute_result",
          "data": {
            "text/plain": [
              "9"
            ]
          },
          "metadata": {},
          "execution_count": 4
        }
      ]
    },
    {
      "cell_type": "markdown",
      "source": [
        "## **Aggressive Cows**\n",
        "\n",
        "\n",
        "*   Min distance between two cows are maximum\n",
        "\n"
      ],
      "metadata": {
        "id": "0Rb8EoCqtYFb"
      }
    },
    {
      "cell_type": "code",
      "source": [
        "# Method 1\n",
        "# TC: O(max-min)(n)\n",
        "# SC: O(1)\n",
        "def can_we_place(arr,dist,cows):\n",
        "  cnt_cows=1\n",
        "  last_cow=arr[0]\n",
        "  for i in range(1,len(arr)):\n",
        "    if arr[i]-last_cow>=dist:\n",
        "      cnt_cows+=1\n",
        "      last_cow=arr[i]\n",
        "  if cnt_cows>=cows:\n",
        "    return True\n",
        "  else:\n",
        "    False\n",
        "\n",
        "arr=[0,3,4,7,9,10]\n",
        "cows=4\n",
        "arr.sort()\n",
        "maxi=max(arr)\n",
        "mini=min(arr)\n",
        "for i in range(1,((maxi-mini)+1)):\n",
        "  if can_we_place(arr,i,cows)==True:\n",
        "    continue\n",
        "  else:\n",
        "    print(i-1)\n",
        "    break\n"
      ],
      "metadata": {
        "id": "MhVvSqCgREZZ",
        "colab": {
          "base_uri": "https://localhost:8080/"
        },
        "outputId": "b152dbdd-ee5c-4a43-9231-f668f46c9bf0"
      },
      "execution_count": null,
      "outputs": [
        {
          "output_type": "stream",
          "name": "stdout",
          "text": [
            "3\n"
          ]
        }
      ]
    },
    {
      "cell_type": "code",
      "source": [
        "# Method 2\n",
        "# TC: O(log2^(max-min))(n)\n",
        "# SC: O(1)\n",
        "def can_we_place(arr,dist,cows):\n",
        "  cnt_cows=1\n",
        "  last_cow=arr[0]\n",
        "  for i in range(1,len(arr)):\n",
        "    if arr[i]-last_cow>=dist:\n",
        "      cnt_cows+=1\n",
        "      last_cow=arr[i]\n",
        "  if cnt_cows>=cows:\n",
        "    return True\n",
        "  else:\n",
        "    False\n",
        "\n",
        "\n",
        "def bn_fnd_min_of_max(arr,cows):\n",
        "  low=0\n",
        "  high=max(arr)-min(arr)\n",
        "  ans=0\n",
        "  while low<=high:\n",
        "    mid=(low+high)//2\n",
        "    if can_we_place(arr,mid,cows)==True:\n",
        "      ans=mid\n",
        "      low=mid+1\n",
        "    else:\n",
        "      high=mid-1\n",
        "  return ans\n",
        "arr=[0,3,4,7,9,10]\n",
        "cows=4\n",
        "bn_fnd_min_of_max(arr,cows)"
      ],
      "metadata": {
        "id": "oglCMSyoREcw",
        "colab": {
          "base_uri": "https://localhost:8080/"
        },
        "outputId": "2c2ce586-2c05-4350-8e74-a8d5892141e8"
      },
      "execution_count": null,
      "outputs": [
        {
          "output_type": "execute_result",
          "data": {
            "text/plain": [
              "3"
            ]
          },
          "metadata": {},
          "execution_count": 5
        }
      ]
    },
    {
      "cell_type": "markdown",
      "source": [
        "## **Allocate Books or Book Allocation**"
      ],
      "metadata": {
        "id": "iMMHpNnw0_zG"
      }
    },
    {
      "cell_type": "code",
      "source": [
        "# Method 1\n",
        "# TC: O(sum(arr)-max(arr)+1)*(n)\n",
        "# SC: O(1)\n",
        "\n",
        "def max_page_allow(arr,pages):\n",
        "  student=1\n",
        "  no_of_page=0\n",
        "  for i in arr:\n",
        "    if no_of_page+i<=pages:\n",
        "      no_of_page+=i\n",
        "    else:\n",
        "      student+=1\n",
        "      no_of_page=i\n",
        "  return student\n",
        "\n",
        "arr=[25,46,28,49,24]\n",
        "student=4\n",
        "mini=max(arr)\n",
        "maxi=sum(arr)\n",
        "for pages in range(mini,maxi+1):\n",
        "  cnt_student=max_page_allow(arr,pages)\n",
        "  if cnt_student==student:\n",
        "    print(pages)\n",
        "    break\n"
      ],
      "metadata": {
        "id": "lGzcrrxGREe8",
        "colab": {
          "base_uri": "https://localhost:8080/"
        },
        "outputId": "f6e19903-8117-45d1-904e-78c0528e2cbb"
      },
      "execution_count": null,
      "outputs": [
        {
          "output_type": "stream",
          "name": "stdout",
          "text": [
            "71\n"
          ]
        }
      ]
    },
    {
      "cell_type": "code",
      "source": [
        "# Method 2\n",
        "# TC: O(log2^(sum(arr)-max(arr)+1))*(n)\n",
        "# SC: O(1)\n",
        "\n",
        "def max_page_allow(arr,pages):\n",
        "  student=1\n",
        "  no_of_page=0\n",
        "  for i in arr:\n",
        "    if no_of_page+i<=pages:\n",
        "      no_of_page+=i\n",
        "    else:\n",
        "      student+=1\n",
        "      no_of_page=i\n",
        "  return student\n",
        "\n",
        "arr=[25,46,28,49,24]\n",
        "student=4\n",
        "def bn_fnd_pages(arr):\n",
        "  low=max(arr)\n",
        "  high=sum(arr)\n",
        "  while low<=high:\n",
        "    mid=(low+high)//2\n",
        "    no_of_page=max_page_allow(arr,mid)\n",
        "    if no_of_page>student:\n",
        "      low=mid+1\n",
        "    else:\n",
        "      high=mid-1\n",
        "  return low\n",
        "arr=[25,46,28,49,24]\n",
        "student=4\n",
        "bn_fnd_pages(arr)"
      ],
      "metadata": {
        "id": "FBIM65xrREib",
        "colab": {
          "base_uri": "https://localhost:8080/"
        },
        "outputId": "db3d2056-1a27-4d13-8671-fa24d5128a34"
      },
      "execution_count": null,
      "outputs": [
        {
          "output_type": "execute_result",
          "data": {
            "text/plain": [
              "71"
            ]
          },
          "metadata": {},
          "execution_count": 3
        }
      ]
    },
    {
      "cell_type": "markdown",
      "source": [
        "## **Painter's Partition and Split Array - Largest Sum**\n",
        "\n",
        "\n",
        "*   Split the array into k subarray such that max of sum subarray is minimum\n",
        "\n",
        "\n"
      ],
      "metadata": {
        "id": "Xz2ajUgyB6nl"
      }
    },
    {
      "cell_type": "code",
      "source": [
        "def max_page_allow(arr,pages):\n",
        "  student=1\n",
        "  no_of_page=0\n",
        "  for i in arr:\n",
        "    if no_of_page+i<=pages:\n",
        "      no_of_page+=i\n",
        "    else:\n",
        "      student+=1\n",
        "      no_of_page=i\n",
        "  return student\n",
        "\n",
        "arr=[25,46,28,49,24]\n",
        "student=4\n",
        "def bn_fnd_pages(arr):\n",
        "  low=max(arr)\n",
        "  high=sum(arr)\n",
        "  while low<=high:\n",
        "    mid=(low+high)//2\n",
        "    no_of_page=max_page_allow(arr,mid)\n",
        "    if no_of_page>student:\n",
        "      low=mid+1\n",
        "    else:\n",
        "      high=mid-1\n",
        "  return low\n",
        "arr=[10,20,30,40]\n",
        "student=2\n",
        "bn_fnd_pages(arr)"
      ],
      "metadata": {
        "id": "zLrJaH3WREkx",
        "colab": {
          "base_uri": "https://localhost:8080/"
        },
        "outputId": "70374592-8879-4de5-fb6a-eac357643f9f"
      },
      "execution_count": null,
      "outputs": [
        {
          "output_type": "execute_result",
          "data": {
            "text/plain": [
              "60"
            ]
          },
          "metadata": {},
          "execution_count": 1
        }
      ]
    },
    {
      "cell_type": "markdown",
      "source": [
        "## **Median of two Sorted Arrays of Different Sizes**"
      ],
      "metadata": {
        "id": "yAkOC9E29DAY"
      }
    },
    {
      "cell_type": "code",
      "source": [
        "# Method 1\n",
        "# TC: O(n1+n2)\n",
        "# SC: O(n)\n",
        "\n",
        "arr1=[1,3,5,7,9]\n",
        "arr2=[2,4,6,8,10]\n",
        "n1=len(arr1)\n",
        "n2=len(arr2)\n",
        "ans=[]\n",
        "i=0\n",
        "j=0\n",
        "while(i<n1 and j<n2):\n",
        "  if arr1[i]<arr2[j]:\n",
        "    ans.append(arr1[i])\n",
        "    i+=1\n",
        "  else:\n",
        "    ans.append(arr2[j])\n",
        "    j+=1\n",
        "while i<n1:\n",
        "  ans.append(arr1[i])\n",
        "  i+=1\n",
        "while j<n2:\n",
        "  ans.append(arr2[j])\n",
        "  j+=1\n",
        "print(ans)\n",
        "\n",
        "n=len(ans)\n",
        "if n%2==1:\n",
        "  print(\"Median is : \",ans[n//2])\n",
        "else:\n",
        "  print(\"Median is : \",(ans[n//2]+ans[n//2-1])/2)\n"
      ],
      "metadata": {
        "id": "dM3ihxiJREoi",
        "colab": {
          "base_uri": "https://localhost:8080/"
        },
        "outputId": "23888dba-a985-4c05-da91-bb7609b296b6"
      },
      "execution_count": null,
      "outputs": [
        {
          "output_type": "stream",
          "name": "stdout",
          "text": [
            "[1, 2, 3, 4, 5, 6, 7, 8, 9, 10]\n",
            "Median is :  5.5\n"
          ]
        }
      ]
    },
    {
      "cell_type": "code",
      "source": [
        "# Method 2\n",
        "# TC: O(n1+n2)\n",
        "# SC: O(n)\n",
        "arr1=[1,3,5,7,9]\n",
        "arr2=[2,4,6,8,10]\n",
        "n1=len(arr1)\n",
        "n2=len(arr2)\n",
        "n=n1+n2\n",
        "ind2=n//2\n",
        "ind1=ind2-1\n",
        "cnt=0\n",
        "ind_ele1,ind_ele2=-1,-1\n",
        "i=0\n",
        "j=0\n",
        "while i<n1 and j<n2:\n",
        "  if arr1[i]<arr2[j]:\n",
        "    if cnt==ind1:\n",
        "      ind_ele1=arr1[i]\n",
        "    if cnt==ind2:\n",
        "      ind_ele2=arr1[i]\n",
        "    cnt+=1\n",
        "    i+=1\n",
        "  else:\n",
        "    if cnt==ind1:\n",
        "      ind_ele1=arr2[j]\n",
        "    if cnt==ind2:\n",
        "      ind_ele2=arr2[j]\n",
        "    cnt+=1\n",
        "    j+=1\n",
        "while i<n1:\n",
        "  if cnt==ind1:\n",
        "    ind_ele1=arr1[i]\n",
        "  if cnt==ind2:\n",
        "    ind_ele2=arr1[i]\n",
        "  cnt+=1\n",
        "  i+=1\n",
        "while j<n2:\n",
        "  if cnt==ind1:\n",
        "    ind_ele1=arr2[j]\n",
        "  if cnt==ind2:\n",
        "    ind_ele2=arr2[j]\n",
        "  cnt+=1\n",
        "  j+=1\n",
        "\n",
        "if n%2==1:\n",
        "  print(ind_ele2)\n",
        "else:\n",
        "  print((ind_ele2+ind_ele1)/2)\n",
        "\n",
        "\n",
        "\n"
      ],
      "metadata": {
        "id": "xFX3KZ6uREq6",
        "colab": {
          "base_uri": "https://localhost:8080/"
        },
        "outputId": "9543ad21-15b0-43e9-ec02-ab449731737f"
      },
      "execution_count": null,
      "outputs": [
        {
          "output_type": "stream",
          "name": "stdout",
          "text": [
            "5.5\n"
          ]
        }
      ]
    },
    {
      "cell_type": "markdown",
      "source": [
        "## **Row with maximum number of 1s**"
      ],
      "metadata": {
        "id": "cRp19CQ7o49V"
      }
    },
    {
      "cell_type": "code",
      "source": [
        "# Method 1\n",
        "# TC: O(row*col)\n",
        "arr=[[0,0,0,0],\n",
        "     [0,1,1,1],\n",
        "     [0,1,1,1],\n",
        "     [1,1,1,1]]\n",
        "row=len(arr)\n",
        "col=len(arr[0])\n",
        "max_cnt=1\n",
        "ind=-1\n",
        "for i in range(row):\n",
        "  cnt=0\n",
        "  for j in range(col):\n",
        "    if arr[i][j]==1:\n",
        "      cnt+=arr[i][j]\n",
        "  if cnt>max_cnt:\n",
        "    max_cnt=cnt\n",
        "    ind=i\n",
        "print(ind)\n"
      ],
      "metadata": {
        "colab": {
          "base_uri": "https://localhost:8080/"
        },
        "id": "nnsbVI8Go3_2",
        "outputId": "0d26063c-5197-4056-88e7-c6bfef406c7d"
      },
      "execution_count": null,
      "outputs": [
        {
          "output_type": "stream",
          "name": "stdout",
          "text": [
            "3\n"
          ]
        }
      ]
    },
    {
      "cell_type": "code",
      "source": [
        "# Method 2\n",
        "# TC: O(nlog2^m)\n",
        "def lower_bound(arr,m):\n",
        "  low=arr[0]\n",
        "  high=arr[len(arr)-1]\n",
        "  ans=len(arr)\n",
        "  while low<=high:\n",
        "    mid=(low+high)//2\n",
        "    if arr[mid]>=m:\n",
        "      high=mid-1\n",
        "      ans=mid\n",
        "    else:\n",
        "      low=mid+1\n",
        "  return mid\n",
        "\n",
        "arr=[[0,0,0,0],\n",
        "     [0,1,1,1],\n",
        "     [0,1,1,1],\n",
        "     [1,1,1,1]]\n",
        "def fnd_max_ones(arr):\n",
        "  cnt_max=0\n",
        "  ind=-1\n",
        "  for i in range(len(arr)):\n",
        "    no_element=len(arr[i])\n",
        "    cnt_one=no_element-lower_bound(arr[i],1)\n",
        "    if cnt_one>cnt_max:\n",
        "      cnt_one=cnt_max\n",
        "      ind=i\n",
        "  return ind\n",
        "\n",
        "fnd_max_ones(arr)"
      ],
      "metadata": {
        "id": "5bKc-CkaREuq",
        "colab": {
          "base_uri": "https://localhost:8080/"
        },
        "outputId": "f5a9cb5b-6582-4ee4-d73f-33cb7e1082fb"
      },
      "execution_count": null,
      "outputs": [
        {
          "output_type": "execute_result",
          "data": {
            "text/plain": [
              "3"
            ]
          },
          "metadata": {},
          "execution_count": 2
        }
      ]
    },
    {
      "cell_type": "markdown",
      "source": [
        "## **Search in a 2D Matrix - I**"
      ],
      "metadata": {
        "id": "4numS4TMBHh3"
      }
    },
    {
      "cell_type": "code",
      "source": [
        "# Method 1\n",
        "# TC : O(len(row)*len(col))\n",
        "# SC: O(1)\n",
        "arr=[[3,4,7,9],\n",
        "     [12,14,17,19],\n",
        "     [20,23,27,29]]\n",
        "n=23\n",
        "def fnd_element(arr):\n",
        "  for row in arr:\n",
        "    for ele in row:\n",
        "      if ele==n:\n",
        "        return True\n",
        "  return False\n",
        "fnd_element(arr)"
      ],
      "metadata": {
        "id": "0WPpKAc1REwz",
        "colab": {
          "base_uri": "https://localhost:8080/"
        },
        "outputId": "f60877ef-bfaa-4053-9b7d-66589280c82f"
      },
      "execution_count": null,
      "outputs": [
        {
          "output_type": "execute_result",
          "data": {
            "text/plain": [
              "False"
            ]
          },
          "metadata": {},
          "execution_count": 10
        }
      ]
    },
    {
      "cell_type": "code",
      "source": [
        "# Method 1 Without function\n",
        "# TC : O(len(row)*len(col))\n",
        "# SC: O(1)\n",
        "arr=[[3,4,7,9],\n",
        "     [12,14,17,19],\n",
        "     [20,23,27,29]]\n",
        "n=21\n",
        "flag=False\n",
        "for i in arr:\n",
        "  for j in i:\n",
        "    if j==n:\n",
        "      flag=True\n",
        "      break\n",
        "print(flag)"
      ],
      "metadata": {
        "id": "hjVc_r7ZRE0V",
        "colab": {
          "base_uri": "https://localhost:8080/"
        },
        "outputId": "c6cf1fbe-4651-464f-df32-52106ffc268a"
      },
      "execution_count": null,
      "outputs": [
        {
          "output_type": "stream",
          "name": "stdout",
          "text": [
            "False\n"
          ]
        }
      ]
    },
    {
      "cell_type": "code",
      "source": [
        "# Method 2 Using Binary search\n",
        "# TC : O(n)+log2^m\n",
        "# SC: O(1)\n",
        "def bn_search_matrix(arr,target):\n",
        "  low=0\n",
        "  high=len(arr)-1\n",
        "  while low<=high:\n",
        "    mid=(low+high)//2\n",
        "    if arr[mid]==target:\n",
        "      return True\n",
        "    elif arr[mid]>target:\n",
        "      high=mid-1\n",
        "    else:\n",
        "      low=mid+1\n",
        "  return False\n",
        "\n",
        "arr=[[3,4,7,9],\n",
        "     [12,14,17,19],\n",
        "     [20,23,27,29]]\n",
        "target=23\n",
        "n=len(arr)\n",
        "m=len(arr[0])\n",
        "flag=False\n",
        "for i in range(n):\n",
        "  if arr[i][0]<=target and target<=arr[i][m-1]:\n",
        "    flag=bn_search_matrix(arr[i],target)\n",
        "print(flag)\n"
      ],
      "metadata": {
        "id": "c100AyPkRE2m",
        "colab": {
          "base_uri": "https://localhost:8080/"
        },
        "outputId": "47bf3ff9-4f51-465e-f235-167efeae9b90"
      },
      "execution_count": null,
      "outputs": [
        {
          "output_type": "stream",
          "name": "stdout",
          "text": [
            "True\n"
          ]
        }
      ]
    },
    {
      "cell_type": "code",
      "source": [
        "# Method 1 Without function\n",
        "# TC : O(log2^(m*n))\n",
        "# SC: O(1)\n",
        "\n",
        "def bin_search_in_matrix(mat,target):\n",
        "  n=len(mat)\n",
        "  m=len(mat[0])\n",
        "  low=0\n",
        "  high=(n*m)-1\n",
        "  while low<=high:\n",
        "    mid=(low+high)//2\n",
        "    row=mid//m\n",
        "    col=mid%m\n",
        "    if mat[row][col]==target:\n",
        "      return True\n",
        "    elif mat[row][col]<target:\n",
        "      low=mid+1\n",
        "    else:\n",
        "      high=mid-1\n",
        "  return False\n",
        "\n",
        "mat=[[3,4,7,9],\n",
        "     [12,14,17,19],\n",
        "     [20,23,27,29]]\n",
        "target=2\n",
        "bin_search_in_matrix(mat,target)\n"
      ],
      "metadata": {
        "id": "FaMtUv8eRE6U",
        "colab": {
          "base_uri": "https://localhost:8080/"
        },
        "outputId": "5a8e56f9-f1f5-4f58-d376-22da48adb139"
      },
      "execution_count": null,
      "outputs": [
        {
          "output_type": "execute_result",
          "data": {
            "text/plain": [
              "False"
            ]
          },
          "metadata": {},
          "execution_count": 3
        }
      ]
    },
    {
      "cell_type": "markdown",
      "source": [
        "## **Search in a 2D Matrix - II**\n",
        "\n",
        "\n",
        "*   Entire Matrix are not sorted\n",
        "*   Every row and column are sorted itself\n",
        "\n"
      ],
      "metadata": {
        "id": "bCPYMXgt0WWr"
      }
    },
    {
      "cell_type": "code",
      "source": [
        "# Method 1\n",
        "# TC : O((m*n))\n",
        "# SC: O(1)\n",
        "\n",
        "\n",
        "mat=[[1,4,7,11,15],\n",
        "     [2,5,8,12,19],\n",
        "     [3,6,9,16,22],\n",
        "     [10,13,14,17,24],\n",
        "     [18,21,23,26,30]]\n",
        "target=14\n",
        "n=len(mat)\n",
        "m=len(mat[0])\n",
        "ans=[]\n",
        "for i in range(n):\n",
        "  for j in range(m):\n",
        "    if mat[i][j]==target:\n",
        "      print(i,j)\n",
        "\n"
      ],
      "metadata": {
        "id": "KNv_bagERE81",
        "colab": {
          "base_uri": "https://localhost:8080/"
        },
        "outputId": "e4f2c51e-06bf-460d-9e66-b341b5c87ef9"
      },
      "execution_count": null,
      "outputs": [
        {
          "output_type": "stream",
          "name": "stdout",
          "text": [
            "3 2\n"
          ]
        }
      ]
    },
    {
      "cell_type": "code",
      "source": [
        "# Method 2\n",
        "# TC : O(nlog2^(m))\n",
        "# SC: O(1)\n",
        "\n",
        "def bn_search_matrix(arr,target):\n",
        "  low=0\n",
        "  high=len(arr)-1\n",
        "  while low<=high:\n",
        "    mid=(low+high)//2\n",
        "    if arr[mid]==target:\n",
        "      return mid\n",
        "    elif arr[mid]>target:\n",
        "      high=mid-1\n",
        "    else:\n",
        "      low=mid+1\n",
        "  return -1\n",
        "\n",
        "mat=[[1,4,7,11,15],\n",
        "     [2,5,8,12,19],\n",
        "     [3,6,9,16,22],\n",
        "     [10,13,14,17,24],\n",
        "     [18,21,23,26,30]]\n",
        "target=30\n",
        "n=len(mat)\n",
        "for i in range(n):\n",
        "  ind=bn_search_matrix(mat[i],target)\n",
        "  if ind!=-1:\n",
        "    print(i,ind)"
      ],
      "metadata": {
        "id": "xSw2nRIzRFAd",
        "colab": {
          "base_uri": "https://localhost:8080/"
        },
        "outputId": "79393e0c-8a0d-4811-81c8-e4cb662eb18c"
      },
      "execution_count": null,
      "outputs": [
        {
          "output_type": "stream",
          "name": "stdout",
          "text": [
            "4 4\n"
          ]
        }
      ]
    },
    {
      "cell_type": "code",
      "source": [
        "# Method 1 Without function\n",
        "# TC : O((m+ n))\n",
        "# SC: O(1)\n",
        "\n",
        "mat=[[1,4,7,11,15],\n",
        "     [2,5,8,12,19],\n",
        "     [3,6,9,16,22],\n",
        "     [10,13,14,17,24],\n",
        "     [18,21,23,26,30]]\n",
        "target=30\n",
        "def search_in_matrix(mat,target):\n",
        "  col=len(mat[0])-1\n",
        "  row=0\n",
        "  n=len(mat)\n",
        "  while row<n and col>0:\n",
        "    if mat[row][col]==target:\n",
        "      return row,col\n",
        "    elif mat[row][col]<target:\n",
        "      row+=1\n",
        "    else:\n",
        "      col-=1\n",
        "  return -1,-1\n",
        "\n",
        "search_in_matrix(mat,target)"
      ],
      "metadata": {
        "id": "1fRSyFEnRFCm",
        "colab": {
          "base_uri": "https://localhost:8080/"
        },
        "outputId": "fc454315-0f42-48ff-b44f-0b2ec9f04c74"
      },
      "execution_count": null,
      "outputs": [
        {
          "output_type": "execute_result",
          "data": {
            "text/plain": [
              "(4, 4)"
            ]
          },
          "metadata": {},
          "execution_count": 2
        }
      ]
    },
    {
      "cell_type": "markdown",
      "source": [
        "## **Find Peak Element-II | Binary Search**\n",
        "* all Adjustent value must be less than the elemnet then it call pick element"
      ],
      "metadata": {
        "id": "t4t27SOxNiAj"
      }
    },
    {
      "cell_type": "code",
      "source": [
        "\n",
        "def fnd_max_index(mat,n,m,col):\n",
        "  maxval=-1\n",
        "  ind=-1\n",
        "  for i in range(n):\n",
        "    if mat[i][col]>maxval:\n",
        "      maxval=mat[i][col]\n",
        "      ind=i\n",
        "  return ind\n",
        "\n",
        "def pick_element(mat,n,m):\n",
        "  low=0\n",
        "  high=m-1\n",
        "  while low<=high:\n",
        "    mid=(low+high)//2\n",
        "    max_row_ind=fnd_max_index(mat,n,m,mid)\n",
        "    if mid-1>=0:\n",
        "      left= mat[max_row_ind][mid-1]\n",
        "    else:\n",
        "      left= -1\n",
        "    if mid+1<m:\n",
        "      right=mat[max_row_ind][mid-1]\n",
        "    else:\n",
        "      right=-1\n",
        "\n",
        "    if mat[max_row_ind][mid]>left and mat[max_row_ind][mid]>right:\n",
        "      return (max_row_ind,mid)\n",
        "    elif mat[max_row_ind][mid-1]<left:\n",
        "      high=mid-1\n",
        "    else:\n",
        "      low=mid+1\n",
        "  return (-1,-1)\n",
        "\n",
        "mat=[[9, 2, 3], [4, 5, 6], [7, 8, 10]]\n",
        "n=len(mat)\n",
        "m=len(mat[0])\n",
        "pick_element(mat,n,m)"
      ],
      "metadata": {
        "id": "7Pvb4DmyRFGK",
        "colab": {
          "base_uri": "https://localhost:8080/"
        },
        "outputId": "5c10e6e2-ffc5-4334-f80a-0379f5e49a8f"
      },
      "execution_count": null,
      "outputs": [
        {
          "output_type": "stream",
          "name": "stdout",
          "text": [
            "8\n"
          ]
        },
        {
          "output_type": "execute_result",
          "data": {
            "text/plain": [
              "(2, 1)"
            ]
          },
          "metadata": {},
          "execution_count": 19
        }
      ]
    },
    {
      "cell_type": "code",
      "source": [],
      "metadata": {
        "id": "YJAqFhW_RFIN"
      },
      "execution_count": null,
      "outputs": []
    },
    {
      "cell_type": "code",
      "source": [],
      "metadata": {
        "id": "AKN5Wpl-RFLv"
      },
      "execution_count": null,
      "outputs": []
    },
    {
      "cell_type": "code",
      "source": [],
      "metadata": {
        "id": "PpvubGAeRFOQ"
      },
      "execution_count": null,
      "outputs": []
    },
    {
      "cell_type": "code",
      "source": [],
      "metadata": {
        "id": "-GuC9kGxRFQP"
      },
      "execution_count": null,
      "outputs": []
    },
    {
      "cell_type": "code",
      "source": [],
      "metadata": {
        "id": "vbOu07dzRFSZ"
      },
      "execution_count": null,
      "outputs": []
    },
    {
      "cell_type": "code",
      "source": [],
      "metadata": {
        "id": "SUglUvgFRFUJ"
      },
      "execution_count": null,
      "outputs": []
    },
    {
      "cell_type": "code",
      "source": [],
      "metadata": {
        "id": "9ytYlSnnRFXI"
      },
      "execution_count": null,
      "outputs": []
    },
    {
      "cell_type": "code",
      "source": [],
      "metadata": {
        "id": "Umzq0AMdRFdS"
      },
      "execution_count": null,
      "outputs": []
    },
    {
      "cell_type": "code",
      "source": [],
      "metadata": {
        "id": "eQOCMRUORFfR"
      },
      "execution_count": null,
      "outputs": []
    },
    {
      "cell_type": "code",
      "source": [],
      "metadata": {
        "id": "FZApQJZmRFg6"
      },
      "execution_count": null,
      "outputs": []
    },
    {
      "cell_type": "code",
      "source": [],
      "metadata": {
        "id": "uUJTUw1xRFmT"
      },
      "execution_count": null,
      "outputs": []
    },
    {
      "cell_type": "code",
      "source": [],
      "metadata": {
        "id": "qxFEOiPKRFst"
      },
      "execution_count": null,
      "outputs": []
    },
    {
      "cell_type": "code",
      "source": [],
      "metadata": {
        "id": "x6hm9fotRFyw"
      },
      "execution_count": null,
      "outputs": []
    },
    {
      "cell_type": "code",
      "source": [],
      "metadata": {
        "id": "s2iDOwLpRF4e"
      },
      "execution_count": null,
      "outputs": []
    },
    {
      "cell_type": "code",
      "source": [],
      "metadata": {
        "id": "NsApHYyxRF-0"
      },
      "execution_count": null,
      "outputs": []
    },
    {
      "cell_type": "code",
      "source": [],
      "metadata": {
        "id": "dmy-UNJzRGE4"
      },
      "execution_count": null,
      "outputs": []
    }
  ]
}